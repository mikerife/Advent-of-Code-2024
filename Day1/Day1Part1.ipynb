{
 "cells": [
  {
   "cell_type": "raw",
   "id": "39e4f33f-acc4-434e-92c8-c4ae37297050",
   "metadata": {},
   "source": [
    "Start by using Python to read in file and parse into two lists.  These will then be sent\n",
    "to MAPDL as parameters."
   ]
  },
  {
   "cell_type": "code",
   "execution_count": null,
   "id": "4c19d4af-d77f-46fd-a440-b7b49ed3ba51",
   "metadata": {},
   "outputs": [],
   "source": [
    "column1 = []\n",
    "column2 = []\n",
    "with open(\"part1.txt\", \"r\") as f:\n",
    "    for line in f:\n",
    "        line = line.split(',')\n",
    "        column1.append(int(line[0]))\n",
    "        column2.append(int(line[1]))\n"
   ]
  },
  {
   "cell_type": "code",
   "execution_count": null,
   "id": "78876f12-2cc7-45d0-bc85-9449439b4ea3",
   "metadata": {},
   "outputs": [],
   "source": [
    "from ansys.mapdl.core import launch_mapdl\n",
    "import os\n",
    "path = os.getcwd()"
   ]
  },
  {
   "cell_type": "code",
   "execution_count": null,
   "id": "c9a28934-ea21-4bc3-884a-295deb72b310",
   "metadata": {},
   "outputs": [],
   "source": [
    "mapdl = launch_mapdl(run_location=path, additional_switches='-smp')"
   ]
  },
  {
   "cell_type": "raw",
   "id": "cc621ffd-fe3d-46de-ad25-95016abfdeaf",
   "metadata": {},
   "source": [
    "Push Python lists to MAPDL Arrays"
   ]
  },
  {
   "cell_type": "code",
   "execution_count": null,
   "id": "3f362e7d-cb40-4e5f-9407-5748fd0cc872",
   "metadata": {},
   "outputs": [],
   "source": [
    "mapdl.parameters['C1'] = column1\n",
    "mapdl.parameters['C2'] = column2"
   ]
  },
  {
   "cell_type": "raw",
   "id": "1533197e-107b-4597-9a0e-70065f5c9fab",
   "metadata": {},
   "source": [
    "Now ascend sort the arrays.  Then subtract; csub array.  And sum the abs values of csub.\n",
    "Print the int value of the total."
   ]
  },
  {
   "cell_type": "code",
   "execution_count": null,
   "id": "9863f94d-f766-4d98-971a-9c49f611c68a",
   "metadata": {},
   "outputs": [],
   "source": [
    "mapdl.vfun('C1S', 'ASORT', 'C1(1,1)')\n",
    "mapdl.vfun('C2S', 'ASORT', 'C2(1,1)')\n",
    "mapdl.voper('CSUB', 'C1S(1,1)', 'SUB', 'C2S(1,1)')\n",
    "\n",
    "mapdl.vabs('', 1)\n",
    "mapdl.vscfun('TOT', 'SUM', 'CSUB(1,1)')\n",
    "print(int(mapdl.parameters['TOT']))"
   ]
  },
  {
   "cell_type": "code",
   "execution_count": null,
   "id": "b7ddb604-cf1c-47c0-ac94-f941fe65bfa8",
   "metadata": {},
   "outputs": [],
   "source": [
    "mapdl.exit()"
   ]
  },
  {
   "cell_type": "code",
   "execution_count": null,
   "id": "3db9ac34-9831-43d6-9cc6-a126e4e1b89c",
   "metadata": {},
   "outputs": [],
   "source": []
  }
 ],
 "metadata": {
  "kernelspec": {
   "display_name": "Python 3 (ipykernel)",
   "language": "python",
   "name": "python3"
  },
  "language_info": {
   "codemirror_mode": {
    "name": "ipython",
    "version": 3
   },
   "file_extension": ".py",
   "mimetype": "text/x-python",
   "name": "python",
   "nbconvert_exporter": "python",
   "pygments_lexer": "ipython3",
   "version": "3.10.8"
  }
 },
 "nbformat": 4,
 "nbformat_minor": 5
}
