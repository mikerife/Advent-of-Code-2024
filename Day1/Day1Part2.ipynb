{
 "cells": [
  {
   "cell_type": "raw",
   "id": "3fd2f615-0be7-4f1b-828b-06bedc6580cc",
   "metadata": {},
   "source": [
    "Start by using Python to read in file and parse into two lists.  These will then be sent\n",
    "to MAPDL as parameters."
   ]
  },
  {
   "cell_type": "code",
   "execution_count": null,
   "id": "c9911882-17b2-4764-b66c-5cb7dde8178c",
   "metadata": {},
   "outputs": [],
   "source": [
    "column1 = []\n",
    "column2 = []\n",
    "with open(\"part1.txt\", \"r\") as f:\n",
    "    for line in f:\n",
    "        line = line.split(',')\n",
    "        column1.append(int(line[0]))\n",
    "        column2.append(int(line[1]))"
   ]
  },
  {
   "cell_type": "code",
   "execution_count": null,
   "id": "14c562d7-d0bc-42dd-9ed6-d2f6fd9e1922",
   "metadata": {},
   "outputs": [],
   "source": [
    "from ansys.mapdl.core import launch_mapdl\n",
    "import os\n",
    "path = os.getcwd()"
   ]
  },
  {
   "cell_type": "code",
   "execution_count": null,
   "id": "82f97865-4589-4670-a2ec-d878e55853b3",
   "metadata": {},
   "outputs": [],
   "source": [
    "mapdl = launch_mapdl(run_location=path, additional_switches='-smp')"
   ]
  },
  {
   "cell_type": "raw",
   "id": "4e647558-832e-4aaf-96c0-b57a97ca16b9",
   "metadata": {},
   "source": [
    "The main goal is to find how many instances of numbers in column1 appear in column2.  To do so let's\n",
    "create KeyPoints at X of each column2 position.  Then loop over each column1 value and select the KPs\n",
    "at the value.  Need to scale the tolerance down (from 0.005 since vmin=vmax) since the values are so large.\n",
    "Then *get the count of selected KP's; multiply that by the current X value; and gather sum."
   ]
  },
  {
   "cell_type": "code",
   "execution_count": null,
   "id": "ed7e60ad-78bc-40ce-99bb-0ced35e4d73a",
   "metadata": {},
   "outputs": [],
   "source": [
    "mapdl.clear()\n",
    "mapdl.prep7()\n",
    "\n",
    "simularity = 0\n",
    "for xvalue in column2:\n",
    "    mapdl.k('', xvalue, 0, 0)\n",
    "for value in column1:\n",
    "    mapdl.allsel()\n",
    "    mapdl.ksel('s', 'loc', 'x', value, value*1.0000001)\n",
    "    count = mapdl.get_value('kp', 0, 'count')\n",
    "    simularity += value*count\n"
   ]
  },
  {
   "cell_type": "code",
   "execution_count": null,
   "id": "e4627cf6-5d75-446e-a90d-9c28fcf08410",
   "metadata": {},
   "outputs": [],
   "source": [
    "print(int(simularity))"
   ]
  },
  {
   "cell_type": "code",
   "execution_count": null,
   "id": "3e65dca3-adca-44c1-9bb0-28cb1f79fef4",
   "metadata": {},
   "outputs": [],
   "source": [
    "mapdl.exit()"
   ]
  },
  {
   "cell_type": "code",
   "execution_count": null,
   "id": "f69e4828-a091-40ce-bc8c-b14c97277616",
   "metadata": {},
   "outputs": [],
   "source": []
  }
 ],
 "metadata": {
  "kernelspec": {
   "display_name": "Python 3 (ipykernel)",
   "language": "python",
   "name": "python3"
  },
  "language_info": {
   "codemirror_mode": {
    "name": "ipython",
    "version": 3
   },
   "file_extension": ".py",
   "mimetype": "text/x-python",
   "name": "python",
   "nbconvert_exporter": "python",
   "pygments_lexer": "ipython3",
   "version": "3.10.8"
  }
 },
 "nbformat": 4,
 "nbformat_minor": 5
}
